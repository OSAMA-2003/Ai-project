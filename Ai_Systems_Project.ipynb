{
  "nbformat": 4,
  "nbformat_minor": 0,
  "metadata": {
    "colab": {
      "provenance": [],
      "authorship_tag": "ABX9TyPe8Bocx7FoKXwIXUZoFWOw",
      "include_colab_link": true
    },
    "kernelspec": {
      "name": "python3",
      "display_name": "Python 3"
    },
    "language_info": {
      "name": "python"
    }
  },
  "cells": [
    {
      "cell_type": "markdown",
      "metadata": {
        "id": "view-in-github",
        "colab_type": "text"
      },
      "source": [
        "<a href=\"https://colab.research.google.com/github/OSAMA-2003/Ai-project/blob/main/Ai_Systems_Project.ipynb\" target=\"_parent\"><img src=\"https://colab.research.google.com/assets/colab-badge.svg\" alt=\"Open In Colab\"/></a>"
      ]
    },
    {
      "cell_type": "code",
      "source": [
        "# !pip install sklearn-genetic\n",
        "import pandas as pd\n",
        "import numpy as np\n",
        "from sklearn.model_selection import train_test_split\n",
        "from sklearn.tree import DecisionTreeClassifier\n",
        "from sklearn.metrics import accuracy_score\n",
        "from sklearn.feature_selection import SelectFromModel\n",
        "from sklearn.model_selection import GridSearchCV\n",
        "import tensorflow as tf\n",
        "from sklearn.decomposition import PCA\n",
        "from sklearn.neural_network import MLPClassifier\n",
        "from sklearn.ensemble import RandomForestClassifier\n",
        "from scipy.optimize import differential_evolution\n",
        "from sklearn.preprocessing import StandardScaler\n",
        "from sklearn.pipeline import make_pipeline\n",
        "from sklearn.utils import check_random_state\n",
        "# from genetic_selection import GeneticSelectionCV"
      ],
      "metadata": {
        "id": "3-Ikh4l6mUBC"
      },
      "execution_count": 2,
      "outputs": []
    },
    {
      "cell_type": "code",
      "source": [
        "# Step 1: Data Preparation\n",
        "# Load the dataset\n",
        "data = pd.read_csv('/content/Heart_Dataset.csv')\n",
        "\n",
        "X = data.iloc[:,2:]\n",
        "Y= data.iloc[:,1:2]\n",
        "X.replace(np.nan,inplace=True)\n",
        "# x_train,x_test,y_train,y_test=train_test_split(x,y,train_size=0.30, random_state=0)\n",
        "x_train, x_test, y_train, y_test = train_test_split(X, Y, train_size = 0.05, random_state = 50)"
      ],
      "metadata": {
        "id": "pZ-YGS2nmVZJ"
      },
      "execution_count": 3,
      "outputs": []
    },
    {
      "cell_type": "code",
      "source": [
        "\n",
        "# 1-Decision Tree Classifier\n",
        "dt_classifier = DecisionTreeClassifier()\n",
        "dt_classifier.fit(x_train, y_train)\n",
        "\n",
        "# Predict\n",
        "y_pred_dt = dt_classifier.predict(x_test)\n",
        "\n",
        "# Accuracy\n",
        "accuracy_dt = accuracy_score(y_test, y_pred_dt)\n",
        "print(f'Decision Tree Accuracy: {round((accuracy_dt*100), 2)}%')"
      ],
      "metadata": {
        "id": "rTSbkC9_2XIu"
      },
      "execution_count": null,
      "outputs": []
    },
    {
      "cell_type": "code",
      "source": [
        "\n",
        "# 2- Neural Networks MLP\n",
        "\n",
        "from sklearn.neural_network import MLPClassifier\n",
        "\n",
        "# Multi-layer Perceptron (MLP) Classifier\n",
        "mlp_classifier = MLPClassifier(hidden_layer_sizes=(100,), activation='relu', solver='adam', random_state=42)\n",
        "mlp_classifier.fit(x_train, y_train)\n",
        "\n",
        "# Predict\n",
        "y_pred_mlp = mlp_classifier.predict(x_test)\n",
        "\n",
        "# Accuracy\n",
        "accuracy_mlp = accuracy_score(y_test, y_pred_mlp)\n",
        "# print(\"MLP Accuracy:\", accuracy_mlp)\n",
        "print(f'MLP Accuracy: {round((accuracy_mlp*100), 2)}%')"
      ],
      "metadata": {
        "id": "md0h2YuovMN-"
      },
      "execution_count": null,
      "outputs": []
    },
    {
      "cell_type": "code",
      "source": [
        "\n",
        "\n",
        "# !pip install sklearn-genetic\n",
        "\n",
        "# 3. Genetic Algorithms for Feature Selection\n",
        "# Scale the features\n",
        "scaler = StandardScaler()\n",
        "X_train_scaled = scaler.fit_transform(x_train)\n",
        "X_test_scaled = scaler.transform(x_test)\n",
        "\n",
        "# Define the classifier\n",
        "classifier = RandomForestClassifier(n_estimators=10, random_state=500)\n",
        "\n",
        "# Define the genetic selection\n",
        "selector = GeneticSelectionCV(classifier,cv=5,verbose=1,scoring=\"accuracy\",crossover_proba=0.5, mutation_proba=0.2,n_generations=40, crossover_independent_proba=0.5,\n",
        "                              mutation_independent_proba=0.05, tournament_size=3, n_gen_no_change=10,caching=True, n_jobs=-1)\n",
        "\n",
        "# Perform genetic feature selection\n",
        "selector.fit(X_train_scaled, y_train)\n",
        "\n",
        "# Transform the training and testing sets to selected features\n",
        "X_train_selected = selector.transform(X_train_scaled)\n",
        "X_test_selected = selector.transform(X_test_scaled)\n",
        "\n",
        "# Train the classifier on the selected features\n",
        "classifier.fit(X_train_selected, y_train)\n",
        "\n",
        "# Predict the labels of the test set\n",
        "y_pred = classifier.predict(X_test_selected)\n",
        "\n",
        "# Calculate the accuracy of the classifier\n",
        "accuracy = accuracy_score(y_test, y_pred)\n",
        "\n",
        "# Print the accuracy\n",
        "print(f'Genetic Algorithms Accuracy: {round((accuracy*100), 2)}%')\n",
        "\n"
      ],
      "metadata": {
        "id": "8o3IDADdvWPo"
      },
      "execution_count": null,
      "outputs": []
    },
    {
      "cell_type": "code",
      "source": [
        "# 4-Differential Evolution Algorithm for Hyperparameter Optimization (Neural Network)\n",
        "# Define the fitness function\n",
        "def fitness_function(params, x_train, y_train, x_test, y_test):\n",
        "    n_estimators = int(params[0])\n",
        "    max_depth = int(params[1])\n",
        "    min_samples_split = int(params[2])\n",
        "    min_samples_leaf = int(params[3])\n",
        "    # Create and train the random forest classifier\n",
        "    classifier = RandomForestClassifier(n_estimators=n_estimators,max_depth=max_depth,min_samples_split=min_samples_split,min_samples_leaf=min_samples_leaf,random_state=42)\n",
        "    classifier.fit(x_train, y_train)\n",
        "    # Predict the labels of the test set\n",
        "    y_pred = classifier.predict(x_test)\n",
        "    # Calculate and return the accuracy of the classifier\n",
        "    accuracy = accuracy_score(y_test, y_pred)\n",
        "    return -accuracy  # Minimize negative accuracy for optimization\n",
        "# Define the bounds for the hyperparameters\n",
        "bounds = [(10, 200),  # Number of estimators\n",
        "          (1, 20),  # Maximum depth\n",
        "          (2, 20),  # Minimum samples split\n",
        "          (1, 20)]  # Minimum samples leaf\n",
        "\n",
        "# Perform differential evolution for hyperparameter optimization\n",
        "result = differential_evolution( fitness_function, bounds=bounds,args=(x_train, y_train, x_test, y_test),strategy='best1bin', popsize=10,  # Population size\n",
        "                                mutation=(0.5, 1),  recombination=0.7, maxiter=20, tol=0.01, seed=42)\n",
        "# Get the best hyperparameters\n",
        "n_estimators, max_depth, min_samples_split, min_samples_leaf = result.x\n",
        "\n",
        "# Create and train the random forest classifier with the best hyperparameters\n",
        "classifier = RandomForestClassifier(n_estimators=int(n_estimators),max_depth=int(max_depth),min_samples_split=int(min_samples_split), min_samples_leaf=int(min_samples_leaf),\n",
        " random_state=42)\n",
        "classifier.fit(x_train, y_train)\n",
        "y_pred = classifier.predict(x_test)\n",
        "accuracy = accuracy_score(y_test, y_pred)\n",
        "\n",
        "print(f'Differential Evolution Algorithm Accuracy: {round((accuracy*100), 2)}%')"
      ],
      "metadata": {
        "id": "XrA9bsWtwcOg"
      },
      "execution_count": null,
      "outputs": []
    },
    {
      "cell_type": "code",
      "source": [
        "# 5-Principal Component Analysis (PCA)\n",
        "from sklearn.decomposition import PCA\n",
        "\n",
        "# PCA\n",
        "pca = PCA(n_components=0.95, random_state=42)\n",
        "x_train_pca = pca.fit_transform(x_train)\n",
        "x_test_pca = pca.transform(x_test)\n",
        "\n",
        "# MLP Classifier with PCA\n",
        "mlp_classifier_pca = MLPClassifier(max_iter=1000, activation='relu', solver='adam', random_state=42)\n",
        "mlp_classifier_pca.fit(x_train_pca, y_train)\n",
        "\n",
        "# Predict\n",
        "y_pred_mlp_pca = mlp_classifier_pca.predict(x_test_pca)\n",
        "\n",
        "# Accuracy\n",
        "accuracy_mlp_pca = accuracy_score(y_test, y_pred_mlp_pca)\n",
        "print(f'MLP with PCA Accuracy: {round((accuracy_mlp_pca*100), 2)}%')\n"
      ],
      "metadata": {
        "id": "r6kXy6oZx38-"
      },
      "execution_count": null,
      "outputs": []
    },
    {
      "cell_type": "code",
      "source": [],
      "metadata": {
        "id": "Klcogee1mVfW"
      },
      "execution_count": null,
      "outputs": []
    },
    {
      "cell_type": "code",
      "source": [],
      "metadata": {
        "id": "3uv9ZgWvmVlp"
      },
      "execution_count": null,
      "outputs": []
    }
  ]
}